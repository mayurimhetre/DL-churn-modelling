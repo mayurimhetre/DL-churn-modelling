{
 "cells": [
  {
   "cell_type": "code",
   "execution_count": 1,
   "id": "3aeaedd0",
   "metadata": {},
   "outputs": [],
   "source": [
    "import numpy as np\n",
    "import seaborn as sns\n",
    "import matplotlib.pyplot as plt\n",
    "import pandas as pd"
   ]
  },
  {
   "cell_type": "code",
   "execution_count": 2,
   "id": "0a557d0e",
   "metadata": {},
   "outputs": [],
   "source": [
    "data = pd.read_csv('Churn_Modelling.csv')"
   ]
  },
  {
   "cell_type": "code",
   "execution_count": 3,
   "id": "602246c6",
   "metadata": {},
   "outputs": [
    {
     "data": {
      "text/html": [
       "<div>\n",
       "<style scoped>\n",
       "    .dataframe tbody tr th:only-of-type {\n",
       "        vertical-align: middle;\n",
       "    }\n",
       "\n",
       "    .dataframe tbody tr th {\n",
       "        vertical-align: top;\n",
       "    }\n",
       "\n",
       "    .dataframe thead th {\n",
       "        text-align: right;\n",
       "    }\n",
       "</style>\n",
       "<table border=\"1\" class=\"dataframe\">\n",
       "  <thead>\n",
       "    <tr style=\"text-align: right;\">\n",
       "      <th></th>\n",
       "      <th>RowNumber</th>\n",
       "      <th>CustomerId</th>\n",
       "      <th>Surname</th>\n",
       "      <th>CreditScore</th>\n",
       "      <th>Geography</th>\n",
       "      <th>Gender</th>\n",
       "      <th>Age</th>\n",
       "      <th>Tenure</th>\n",
       "      <th>Balance</th>\n",
       "      <th>NumOfProducts</th>\n",
       "      <th>HasCrCard</th>\n",
       "      <th>IsActiveMember</th>\n",
       "      <th>EstimatedSalary</th>\n",
       "      <th>Exited</th>\n",
       "    </tr>\n",
       "  </thead>\n",
       "  <tbody>\n",
       "    <tr>\n",
       "      <th>0</th>\n",
       "      <td>1</td>\n",
       "      <td>15634602</td>\n",
       "      <td>Hargrave</td>\n",
       "      <td>619</td>\n",
       "      <td>France</td>\n",
       "      <td>Female</td>\n",
       "      <td>42</td>\n",
       "      <td>2</td>\n",
       "      <td>0.00</td>\n",
       "      <td>1</td>\n",
       "      <td>1</td>\n",
       "      <td>1</td>\n",
       "      <td>101348.88</td>\n",
       "      <td>1</td>\n",
       "    </tr>\n",
       "    <tr>\n",
       "      <th>1</th>\n",
       "      <td>2</td>\n",
       "      <td>15647311</td>\n",
       "      <td>Hill</td>\n",
       "      <td>608</td>\n",
       "      <td>Spain</td>\n",
       "      <td>Female</td>\n",
       "      <td>41</td>\n",
       "      <td>1</td>\n",
       "      <td>83807.86</td>\n",
       "      <td>1</td>\n",
       "      <td>0</td>\n",
       "      <td>1</td>\n",
       "      <td>112542.58</td>\n",
       "      <td>0</td>\n",
       "    </tr>\n",
       "    <tr>\n",
       "      <th>2</th>\n",
       "      <td>3</td>\n",
       "      <td>15619304</td>\n",
       "      <td>Onio</td>\n",
       "      <td>502</td>\n",
       "      <td>France</td>\n",
       "      <td>Female</td>\n",
       "      <td>42</td>\n",
       "      <td>8</td>\n",
       "      <td>159660.80</td>\n",
       "      <td>3</td>\n",
       "      <td>1</td>\n",
       "      <td>0</td>\n",
       "      <td>113931.57</td>\n",
       "      <td>1</td>\n",
       "    </tr>\n",
       "    <tr>\n",
       "      <th>3</th>\n",
       "      <td>4</td>\n",
       "      <td>15701354</td>\n",
       "      <td>Boni</td>\n",
       "      <td>699</td>\n",
       "      <td>France</td>\n",
       "      <td>Female</td>\n",
       "      <td>39</td>\n",
       "      <td>1</td>\n",
       "      <td>0.00</td>\n",
       "      <td>2</td>\n",
       "      <td>0</td>\n",
       "      <td>0</td>\n",
       "      <td>93826.63</td>\n",
       "      <td>0</td>\n",
       "    </tr>\n",
       "    <tr>\n",
       "      <th>4</th>\n",
       "      <td>5</td>\n",
       "      <td>15737888</td>\n",
       "      <td>Mitchell</td>\n",
       "      <td>850</td>\n",
       "      <td>Spain</td>\n",
       "      <td>Female</td>\n",
       "      <td>43</td>\n",
       "      <td>2</td>\n",
       "      <td>125510.82</td>\n",
       "      <td>1</td>\n",
       "      <td>1</td>\n",
       "      <td>1</td>\n",
       "      <td>79084.10</td>\n",
       "      <td>0</td>\n",
       "    </tr>\n",
       "  </tbody>\n",
       "</table>\n",
       "</div>"
      ],
      "text/plain": [
       "   RowNumber  CustomerId   Surname  CreditScore Geography  Gender  Age  \\\n",
       "0          1    15634602  Hargrave          619    France  Female   42   \n",
       "1          2    15647311      Hill          608     Spain  Female   41   \n",
       "2          3    15619304      Onio          502    France  Female   42   \n",
       "3          4    15701354      Boni          699    France  Female   39   \n",
       "4          5    15737888  Mitchell          850     Spain  Female   43   \n",
       "\n",
       "   Tenure    Balance  NumOfProducts  HasCrCard  IsActiveMember  \\\n",
       "0       2       0.00              1          1               1   \n",
       "1       1   83807.86              1          0               1   \n",
       "2       8  159660.80              3          1               0   \n",
       "3       1       0.00              2          0               0   \n",
       "4       2  125510.82              1          1               1   \n",
       "\n",
       "   EstimatedSalary  Exited  \n",
       "0        101348.88       1  \n",
       "1        112542.58       0  \n",
       "2        113931.57       1  \n",
       "3         93826.63       0  \n",
       "4         79084.10       0  "
      ]
     },
     "execution_count": 3,
     "metadata": {},
     "output_type": "execute_result"
    }
   ],
   "source": [
    "data.head()"
   ]
  },
  {
   "cell_type": "code",
   "execution_count": 4,
   "id": "55d37831",
   "metadata": {},
   "outputs": [],
   "source": [
    "data = data.drop(['RowNumber','CustomerId','Surname'],axis=1)"
   ]
  },
  {
   "cell_type": "code",
   "execution_count": 5,
   "id": "9957eb63",
   "metadata": {},
   "outputs": [
    {
     "data": {
      "text/html": [
       "<div>\n",
       "<style scoped>\n",
       "    .dataframe tbody tr th:only-of-type {\n",
       "        vertical-align: middle;\n",
       "    }\n",
       "\n",
       "    .dataframe tbody tr th {\n",
       "        vertical-align: top;\n",
       "    }\n",
       "\n",
       "    .dataframe thead th {\n",
       "        text-align: right;\n",
       "    }\n",
       "</style>\n",
       "<table border=\"1\" class=\"dataframe\">\n",
       "  <thead>\n",
       "    <tr style=\"text-align: right;\">\n",
       "      <th></th>\n",
       "      <th>CreditScore</th>\n",
       "      <th>Geography</th>\n",
       "      <th>Gender</th>\n",
       "      <th>Age</th>\n",
       "      <th>Tenure</th>\n",
       "      <th>Balance</th>\n",
       "      <th>NumOfProducts</th>\n",
       "      <th>HasCrCard</th>\n",
       "      <th>IsActiveMember</th>\n",
       "      <th>EstimatedSalary</th>\n",
       "      <th>Exited</th>\n",
       "    </tr>\n",
       "  </thead>\n",
       "  <tbody>\n",
       "    <tr>\n",
       "      <th>0</th>\n",
       "      <td>619</td>\n",
       "      <td>France</td>\n",
       "      <td>Female</td>\n",
       "      <td>42</td>\n",
       "      <td>2</td>\n",
       "      <td>0.00</td>\n",
       "      <td>1</td>\n",
       "      <td>1</td>\n",
       "      <td>1</td>\n",
       "      <td>101348.88</td>\n",
       "      <td>1</td>\n",
       "    </tr>\n",
       "    <tr>\n",
       "      <th>1</th>\n",
       "      <td>608</td>\n",
       "      <td>Spain</td>\n",
       "      <td>Female</td>\n",
       "      <td>41</td>\n",
       "      <td>1</td>\n",
       "      <td>83807.86</td>\n",
       "      <td>1</td>\n",
       "      <td>0</td>\n",
       "      <td>1</td>\n",
       "      <td>112542.58</td>\n",
       "      <td>0</td>\n",
       "    </tr>\n",
       "    <tr>\n",
       "      <th>2</th>\n",
       "      <td>502</td>\n",
       "      <td>France</td>\n",
       "      <td>Female</td>\n",
       "      <td>42</td>\n",
       "      <td>8</td>\n",
       "      <td>159660.80</td>\n",
       "      <td>3</td>\n",
       "      <td>1</td>\n",
       "      <td>0</td>\n",
       "      <td>113931.57</td>\n",
       "      <td>1</td>\n",
       "    </tr>\n",
       "    <tr>\n",
       "      <th>3</th>\n",
       "      <td>699</td>\n",
       "      <td>France</td>\n",
       "      <td>Female</td>\n",
       "      <td>39</td>\n",
       "      <td>1</td>\n",
       "      <td>0.00</td>\n",
       "      <td>2</td>\n",
       "      <td>0</td>\n",
       "      <td>0</td>\n",
       "      <td>93826.63</td>\n",
       "      <td>0</td>\n",
       "    </tr>\n",
       "    <tr>\n",
       "      <th>4</th>\n",
       "      <td>850</td>\n",
       "      <td>Spain</td>\n",
       "      <td>Female</td>\n",
       "      <td>43</td>\n",
       "      <td>2</td>\n",
       "      <td>125510.82</td>\n",
       "      <td>1</td>\n",
       "      <td>1</td>\n",
       "      <td>1</td>\n",
       "      <td>79084.10</td>\n",
       "      <td>0</td>\n",
       "    </tr>\n",
       "  </tbody>\n",
       "</table>\n",
       "</div>"
      ],
      "text/plain": [
       "   CreditScore Geography  Gender  Age  Tenure    Balance  NumOfProducts  \\\n",
       "0          619    France  Female   42       2       0.00              1   \n",
       "1          608     Spain  Female   41       1   83807.86              1   \n",
       "2          502    France  Female   42       8  159660.80              3   \n",
       "3          699    France  Female   39       1       0.00              2   \n",
       "4          850     Spain  Female   43       2  125510.82              1   \n",
       "\n",
       "   HasCrCard  IsActiveMember  EstimatedSalary  Exited  \n",
       "0          1               1        101348.88       1  \n",
       "1          0               1        112542.58       0  \n",
       "2          1               0        113931.57       1  \n",
       "3          0               0         93826.63       0  \n",
       "4          1               1         79084.10       0  "
      ]
     },
     "execution_count": 5,
     "metadata": {},
     "output_type": "execute_result"
    }
   ],
   "source": [
    "data.head()"
   ]
  },
  {
   "cell_type": "code",
   "execution_count": 6,
   "id": "1ce53a9f",
   "metadata": {},
   "outputs": [
    {
     "name": "stdout",
     "output_type": "stream",
     "text": [
      "<class 'pandas.core.frame.DataFrame'>\n",
      "RangeIndex: 10000 entries, 0 to 9999\n",
      "Data columns (total 11 columns):\n",
      " #   Column           Non-Null Count  Dtype  \n",
      "---  ------           --------------  -----  \n",
      " 0   CreditScore      10000 non-null  int64  \n",
      " 1   Geography        10000 non-null  object \n",
      " 2   Gender           10000 non-null  object \n",
      " 3   Age              10000 non-null  int64  \n",
      " 4   Tenure           10000 non-null  int64  \n",
      " 5   Balance          10000 non-null  float64\n",
      " 6   NumOfProducts    10000 non-null  int64  \n",
      " 7   HasCrCard        10000 non-null  int64  \n",
      " 8   IsActiveMember   10000 non-null  int64  \n",
      " 9   EstimatedSalary  10000 non-null  float64\n",
      " 10  Exited           10000 non-null  int64  \n",
      "dtypes: float64(2), int64(7), object(2)\n",
      "memory usage: 859.5+ KB\n"
     ]
    }
   ],
   "source": [
    "data.info()"
   ]
  },
  {
   "cell_type": "code",
   "execution_count": 7,
   "id": "62054eed",
   "metadata": {},
   "outputs": [],
   "source": [
    "########### no missing values, 11 columns ."
   ]
  },
  {
   "cell_type": "code",
   "execution_count": 8,
   "id": "198ab585",
   "metadata": {},
   "outputs": [
    {
     "data": {
      "text/plain": [
       "France     5014\n",
       "Germany    2509\n",
       "Spain      2477\n",
       "Name: Geography, dtype: int64"
      ]
     },
     "execution_count": 8,
     "metadata": {},
     "output_type": "execute_result"
    }
   ],
   "source": [
    "data['Geography'].value_counts()"
   ]
  },
  {
   "cell_type": "code",
   "execution_count": 9,
   "id": "b8ca759e",
   "metadata": {},
   "outputs": [
    {
     "data": {
      "text/plain": [
       "Male      5457\n",
       "Female    4543\n",
       "Name: Gender, dtype: int64"
      ]
     },
     "execution_count": 9,
     "metadata": {},
     "output_type": "execute_result"
    }
   ],
   "source": [
    "data['Gender'].value_counts()"
   ]
  },
  {
   "cell_type": "code",
   "execution_count": 10,
   "id": "e34d788f",
   "metadata": {},
   "outputs": [],
   "source": [
    "num_features = [ i for i in data.columns if data[i].dtypes != 'O']"
   ]
  },
  {
   "cell_type": "code",
   "execution_count": 11,
   "id": "f7d6cc0d",
   "metadata": {},
   "outputs": [
    {
     "data": {
      "text/plain": [
       "9"
      ]
     },
     "execution_count": 11,
     "metadata": {},
     "output_type": "execute_result"
    }
   ],
   "source": [
    "len(num_features)"
   ]
  },
  {
   "cell_type": "code",
   "execution_count": 12,
   "id": "5218b43c",
   "metadata": {},
   "outputs": [
    {
     "data": {
      "text/plain": [
       "(10000, 11)"
      ]
     },
     "execution_count": 12,
     "metadata": {},
     "output_type": "execute_result"
    }
   ],
   "source": [
    "data.shape"
   ]
  },
  {
   "cell_type": "code",
   "execution_count": 13,
   "id": "9c7b2f4a",
   "metadata": {},
   "outputs": [],
   "source": [
    "cat_features = [ i for i in data.columns if data[i].dtypes == 'O']"
   ]
  },
  {
   "cell_type": "code",
   "execution_count": 14,
   "id": "e75df433",
   "metadata": {},
   "outputs": [
    {
     "data": {
      "text/plain": [
       "2"
      ]
     },
     "execution_count": 14,
     "metadata": {},
     "output_type": "execute_result"
    }
   ],
   "source": [
    "len(cat_features)"
   ]
  },
  {
   "cell_type": "code",
   "execution_count": 15,
   "id": "bc0133e5",
   "metadata": {},
   "outputs": [
    {
     "data": {
      "image/png": "[encoded data removed]",
      "text/plain": [
       "<Figure size 432x288 with 1 Axes>"
      ]
     },
     "metadata": {
      "needs_background": "light"
     },
     "output_type": "display_data"
    },
    {
     "data": {
      "image/png": "[encoded data removed]",
      "text/plain": [
       "<Figure size 432x288 with 1 Axes>"
      ]
     },
     "metadata": {
      "needs_background": "light"
     },
     "output_type": "display_data"
    },
    {
     "data": {
      "image/png": "[encoded data removed]",
      "text/plain": [
       "<Figure size 432x288 with 1 Axes>"
      ]
     },
     "metadata": {
      "needs_background": "light"
     },
     "output_type": "display_data"
    },
    {
     "data": {
      "image/png": "[encoded data removed]",
      "text/plain": [
       "<Figure size 432x288 with 1 Axes>"
      ]
     },
     "metadata": {
      "needs_background": "light"
     },
     "output_type": "display_data"
    },
    {
     "data": {
      "image/png": "[encoded data removed]",
      "text/plain": [
       "<Figure size 432x288 with 1 Axes>"
      ]
     },
     "metadata": {
      "needs_background": "light"
     },
     "output_type": "display_data"
    },
    {
     "data": {
      "image/png": "[encoded data removed]",
      "text/plain": [
       "<Figure size 432x288 with 1 Axes>"
      ]
     },
     "metadata": {
      "needs_background": "light"
     },
     "output_type": "display_data"
    },
    {
     "data": {
      "image/png": "[encoded data removed]",
      "text/plain": [
       "<Figure size 432x288 with 1 Axes>"
      ]
     },
     "metadata": {
      "needs_background": "light"
     },
     "output_type": "display_data"
    },
    {
     "data": {
      "image/png": "[encoded data removed]",
      "text/plain": [
       "<Figure size 432x288 with 1 Axes>"
      ]
     },
     "metadata": {
      "needs_background": "light"
     },
     "output_type": "display_data"
    },
    {
     "data": {
      "image/png": "[encoded data removed]",
      "text/plain": [
       "<Figure size 432x288 with 1 Axes>"
      ]
     },
     "metadata": {
      "needs_background": "light"
     },
     "output_type": "display_data"
    }
   ],
   "source": [
    "for i in num_features:\n",
    "    data1 = data.copy()\n",
    "    sns.histplot(data1[i],bins=20)\n",
    "    plt.show()\n",
    "    "
   ]
  },
  {
   "cell_type": "code",
   "execution_count": 16,
   "id": "e023d961",
   "metadata": {},
   "outputs": [
    {
     "data": {
      "image/png": "[encoded data removed]",
      "text/plain": [
       "<Figure size 432x288 with 1 Axes>"
      ]
     },
     "metadata": {
      "needs_background": "light"
     },
     "output_type": "display_data"
    },
    {
     "data": {
      "image/png": "[encoded data removed]",
      "text/plain": [
       "<Figure size 432x288 with 1 Axes>"
      ]
     },
     "metadata": {
      "needs_background": "light"
     },
     "output_type": "display_data"
    }
   ],
   "source": [
    "for i in cat_features:\n",
    "    data1 = data.copy()\n",
    "    sns.histplot(data1[i],bins=10)\n",
    "    plt.show()"
   ]
  },
  {
   "cell_type": "code",
   "execution_count": 17,
   "id": "95dc7b96",
   "metadata": {},
   "outputs": [],
   "source": [
    "geography=pd.get_dummies(data[\"Geography\"],drop_first=True)\n",
    "gender=pd.get_dummies(data['Gender'],drop_first=True)"
   ]
  },
  {
   "cell_type": "code",
   "execution_count": 18,
   "id": "e3d6d529",
   "metadata": {},
   "outputs": [],
   "source": [
    "data = data.drop(['Geography','Gender'],axis=1)"
   ]
  },
  {
   "cell_type": "code",
   "execution_count": 19,
   "id": "19fa107f",
   "metadata": {},
   "outputs": [],
   "source": [
    "data_final = pd.concat([data,geography,gender],axis=1)"
   ]
  },
  {
   "cell_type": "code",
   "execution_count": 20,
   "id": "a6c9f175",
   "metadata": {},
   "outputs": [
    {
     "data": {
      "text/html": [
       "<div>\n",
       "<style scoped>\n",
       "    .dataframe tbody tr th:only-of-type {\n",
       "        vertical-align: middle;\n",
       "    }\n",
       "\n",
       "    .dataframe tbody tr th {\n",
       "        vertical-align: top;\n",
       "    }\n",
       "\n",
       "    .dataframe thead th {\n",
       "        text-align: right;\n",
       "    }\n",
       "</style>\n",
       "<table border=\"1\" class=\"dataframe\">\n",
       "  <thead>\n",
       "    <tr style=\"text-align: right;\">\n",
       "      <th></th>\n",
       "      <th>CreditScore</th>\n",
       "      <th>Age</th>\n",
       "      <th>Tenure</th>\n",
       "      <th>Balance</th>\n",
       "      <th>NumOfProducts</th>\n",
       "      <th>HasCrCard</th>\n",
       "      <th>IsActiveMember</th>\n",
       "      <th>EstimatedSalary</th>\n",
       "      <th>Exited</th>\n",
       "      <th>Germany</th>\n",
       "      <th>Spain</th>\n",
       "      <th>Male</th>\n",
       "    </tr>\n",
       "  </thead>\n",
       "  <tbody>\n",
       "    <tr>\n",
       "      <th>0</th>\n",
       "      <td>619</td>\n",
       "      <td>42</td>\n",
       "      <td>2</td>\n",
       "      <td>0.00</td>\n",
       "      <td>1</td>\n",
       "      <td>1</td>\n",
       "      <td>1</td>\n",
       "      <td>101348.88</td>\n",
       "      <td>1</td>\n",
       "      <td>0</td>\n",
       "      <td>0</td>\n",
       "      <td>0</td>\n",
       "    </tr>\n",
       "    <tr>\n",
       "      <th>1</th>\n",
       "      <td>608</td>\n",
       "      <td>41</td>\n",
       "      <td>1</td>\n",
       "      <td>83807.86</td>\n",
       "      <td>1</td>\n",
       "      <td>0</td>\n",
       "      <td>1</td>\n",
       "      <td>112542.58</td>\n",
       "      <td>0</td>\n",
       "      <td>0</td>\n",
       "      <td>1</td>\n",
       "      <td>0</td>\n",
       "    </tr>\n",
       "    <tr>\n",
       "      <th>2</th>\n",
       "      <td>502</td>\n",
       "      <td>42</td>\n",
       "      <td>8</td>\n",
       "      <td>159660.80</td>\n",
       "      <td>3</td>\n",
       "      <td>1</td>\n",
       "      <td>0</td>\n",
       "      <td>113931.57</td>\n",
       "      <td>1</td>\n",
       "      <td>0</td>\n",
       "      <td>0</td>\n",
       "      <td>0</td>\n",
       "    </tr>\n",
       "    <tr>\n",
       "      <th>3</th>\n",
       "      <td>699</td>\n",
       "      <td>39</td>\n",
       "      <td>1</td>\n",
       "      <td>0.00</td>\n",
       "      <td>2</td>\n",
       "      <td>0</td>\n",
       "      <td>0</td>\n",
       "      <td>93826.63</td>\n",
       "      <td>0</td>\n",
       "      <td>0</td>\n",
       "      <td>0</td>\n",
       "      <td>0</td>\n",
       "    </tr>\n",
       "    <tr>\n",
       "      <th>4</th>\n",
       "      <td>850</td>\n",
       "      <td>43</td>\n",
       "      <td>2</td>\n",
       "      <td>125510.82</td>\n",
       "      <td>1</td>\n",
       "      <td>1</td>\n",
       "      <td>1</td>\n",
       "      <td>79084.10</td>\n",
       "      <td>0</td>\n",
       "      <td>0</td>\n",
       "      <td>1</td>\n",
       "      <td>0</td>\n",
       "    </tr>\n",
       "  </tbody>\n",
       "</table>\n",
       "</div>"
      ],
      "text/plain": [
       "   CreditScore  Age  Tenure    Balance  NumOfProducts  HasCrCard  \\\n",
       "0          619   42       2       0.00              1          1   \n",
       "1          608   41       1   83807.86              1          0   \n",
       "2          502   42       8  159660.80              3          1   \n",
       "3          699   39       1       0.00              2          0   \n",
       "4          850   43       2  125510.82              1          1   \n",
       "\n",
       "   IsActiveMember  EstimatedSalary  Exited  Germany  Spain  Male  \n",
       "0               1        101348.88       1        0      0     0  \n",
       "1               1        112542.58       0        0      1     0  \n",
       "2               0        113931.57       1        0      0     0  \n",
       "3               0         93826.63       0        0      0     0  \n",
       "4               1         79084.10       0        0      1     0  "
      ]
     },
     "execution_count": 20,
     "metadata": {},
     "output_type": "execute_result"
    }
   ],
   "source": [
    "data_final.head()"
   ]
  },
  {
   "cell_type": "code",
   "execution_count": 21,
   "id": "123fb445",
   "metadata": {},
   "outputs": [
    {
     "name": "stderr",
     "output_type": "stream",
     "text": [
      "c:\\users\\chaitanya mhetre\\appdata\\local\\programs\\python\\python39\\lib\\site-packages\\seaborn\\_decorators.py:36: FutureWarning: Pass the following variable as a keyword arg: x. From version 0.12, the only valid positional argument will be `data`, and passing other arguments without an explicit keyword will result in an error or misinterpretation.\n",
      "  warnings.warn(\n"
     ]
    },
    {
     "data": {
      "image/png": "[encoded data removed]",
      "text/plain": [
       "<Figure size 432x288 with 1 Axes>"
      ]
     },
     "metadata": {
      "needs_background": "light"
     },
     "output_type": "display_data"
    },
    {
     "name": "stderr",
     "output_type": "stream",
     "text": [
      "c:\\users\\chaitanya mhetre\\appdata\\local\\programs\\python\\python39\\lib\\site-packages\\seaborn\\_decorators.py:36: FutureWarning: Pass the following variable as a keyword arg: x. From version 0.12, the only valid positional argument will be `data`, and passing other arguments without an explicit keyword will result in an error or misinterpretation.\n",
      "  warnings.warn(\n"
     ]
    },
    {
     "data": {
      "image/png": "[encoded data removed]",
      "text/plain": [
       "<Figure size 432x288 with 1 Axes>"
      ]
     },
     "metadata": {
      "needs_background": "light"
     },
     "output_type": "display_data"
    },
    {
     "name": "stderr",
     "output_type": "stream",
     "text": [
      "c:\\users\\chaitanya mhetre\\appdata\\local\\programs\\python\\python39\\lib\\site-packages\\seaborn\\_decorators.py:36: FutureWarning: Pass the following variable as a keyword arg: x. From version 0.12, the only valid positional argument will be `data`, and passing other arguments without an explicit keyword will result in an error or misinterpretation.\n",
      "  warnings.warn(\n"
     ]
    },
    {
     "data": {
      "image/png": "[encoded data removed]",
      "text/plain": [
       "<Figure size 432x288 with 1 Axes>"
      ]
     },
     "metadata": {
      "needs_background": "light"
     },
     "output_type": "display_data"
    },
    {
     "name": "stderr",
     "output_type": "stream",
     "text": [
      "c:\\users\\chaitanya mhetre\\appdata\\local\\programs\\python\\python39\\lib\\site-packages\\seaborn\\_decorators.py:36: FutureWarning: Pass the following variable as a keyword arg: x. From version 0.12, the only valid positional argument will be `data`, and passing other arguments without an explicit keyword will result in an error or misinterpretation.\n",
      "  warnings.warn(\n"
     ]
    },
    {
     "data": {
      "image/png": "[encoded data removed]",
      "text/plain": [
       "<Figure size 432x288 with 1 Axes>"
      ]
     },
     "metadata": {
      "needs_background": "light"
     },
     "output_type": "display_data"
    },
    {
     "name": "stderr",
     "output_type": "stream",
     "text": [
      "c:\\users\\chaitanya mhetre\\appdata\\local\\programs\\python\\python39\\lib\\site-packages\\seaborn\\_decorators.py:36: FutureWarning: Pass the following variable as a keyword arg: x. From version 0.12, the only valid positional argument will be `data`, and passing other arguments without an explicit keyword will result in an error or misinterpretation.\n",
      "  warnings.warn(\n"
     ]
    },
    {
     "data": {
      "image/png": "[encoded data removed]",
      "text/plain": [
       "<Figure size 432x288 with 1 Axes>"
      ]
     },
     "metadata": {
      "needs_background": "light"
     },
     "output_type": "display_data"
    },
    {
     "name": "stderr",
     "output_type": "stream",
     "text": [
      "c:\\users\\chaitanya mhetre\\appdata\\local\\programs\\python\\python39\\lib\\site-packages\\seaborn\\_decorators.py:36: FutureWarning: Pass the following variable as a keyword arg: x. From version 0.12, the only valid positional argument will be `data`, and passing other arguments without an explicit keyword will result in an error or misinterpretation.\n",
      "  warnings.warn(\n"
     ]
    },
    {
     "data": {
      "image/png": "[encoded data removed]",
      "text/plain": [
       "<Figure size 432x288 with 1 Axes>"
      ]
     },
     "metadata": {
      "needs_background": "light"
     },
     "output_type": "display_data"
    },
    {
     "name": "stderr",
     "output_type": "stream",
     "text": [
      "c:\\users\\chaitanya mhetre\\appdata\\local\\programs\\python\\python39\\lib\\site-packages\\seaborn\\_decorators.py:36: FutureWarning: Pass the following variable as a keyword arg: x. From version 0.12, the only valid positional argument will be `data`, and passing other arguments without an explicit keyword will result in an error or misinterpretation.\n",
      "  warnings.warn(\n"
     ]
    },
    {
     "data": {
      "image/png": "[encoded data removed]",
      "text/plain": [
       "<Figure size 432x288 with 1 Axes>"
      ]
     },
     "metadata": {
      "needs_background": "light"
     },
     "output_type": "display_data"
    },
    {
     "name": "stderr",
     "output_type": "stream",
     "text": [
      "c:\\users\\chaitanya mhetre\\appdata\\local\\programs\\python\\python39\\lib\\site-packages\\seaborn\\_decorators.py:36: FutureWarning: Pass the following variable as a keyword arg: x. From version 0.12, the only valid positional argument will be `data`, and passing other arguments without an explicit keyword will result in an error or misinterpretation.\n",
      "  warnings.warn(\n"
     ]
    },
    {
     "data": {
      "image/png": "[encoded data removed]",
      "text/plain": [
       "<Figure size 432x288 with 1 Axes>"
      ]
     },
     "metadata": {
      "needs_background": "light"
     },
     "output_type": "display_data"
    },
    {
     "name": "stderr",
     "output_type": "stream",
     "text": [
      "c:\\users\\chaitanya mhetre\\appdata\\local\\programs\\python\\python39\\lib\\site-packages\\seaborn\\_decorators.py:36: FutureWarning: Pass the following variable as a keyword arg: x. From version 0.12, the only valid positional argument will be `data`, and passing other arguments without an explicit keyword will result in an error or misinterpretation.\n",
      "  warnings.warn(\n"
     ]
    },
    {
     "data": {
      "image/png": "[encoded data removed]",
      "text/plain": [
       "<Figure size 432x288 with 1 Axes>"
      ]
     },
     "metadata": {
      "needs_background": "light"
     },
     "output_type": "display_data"
    }
   ],
   "source": [
    "for i in num_features:\n",
    "    data1 = data.copy()\n",
    "    sns.boxplot(data1[i])\n",
    "    plt.show()"
   ]
  },
  {
   "cell_type": "code",
   "execution_count": 22,
   "id": "d1643276",
   "metadata": {},
   "outputs": [
    {
     "data": {
      "image/png": "[encoded data removed]",
      "text/plain": [
       "<Figure size 1440x720 with 2 Axes>"
      ]
     },
     "metadata": {
      "needs_background": "light"
     },
     "output_type": "display_data"
    }
   ],
   "source": [
    "fig, ax = plt.subplots(figsize=(20,10))\n",
    "sns.heatmap(data_final.corr(),annot=True,linecolor='white',linewidths=2, ax=ax)\n",
    "plt.show()"
   ]
  },
  {
   "cell_type": "code",
   "execution_count": 23,
   "id": "fe62466a",
   "metadata": {},
   "outputs": [],
   "source": [
    "X = data_final.drop('Exited',axis=1)\n",
    "y = data_final['Exited']\n",
    "# Splitting the dataset into the Training set and Test set\n",
    "from sklearn.model_selection import train_test_split\n",
    "X_train, X_test, y_train, y_test = train_test_split(X, y, test_size = 0.2, random_state = 0)\n",
    "\n",
    "# Feature Scaling\n",
    "from sklearn.preprocessing import StandardScaler\n",
    "sc = StandardScaler()\n",
    "X_train_scaled = sc.fit_transform(X_train)\n",
    "X_test_scaled = sc.transform(X_test)"
   ]
  },
  {
   "cell_type": "code",
   "execution_count": 24,
   "id": "69886579",
   "metadata": {},
   "outputs": [
    {
     "data": {
      "text/plain": [
       "(8000, 11)"
      ]
     },
     "execution_count": 24,
     "metadata": {},
     "output_type": "execute_result"
    }
   ],
   "source": [
    "X_train.shape"
   ]
  },
  {
   "cell_type": "code",
   "execution_count": 25,
   "id": "2330d313",
   "metadata": {},
   "outputs": [
    {
     "name": "stdout",
     "output_type": "stream",
     "text": [
      "Accuracy of train data:  0.999875\n",
      "Accuracy of test data:  0.8685\n",
      "accuracy is:  0.8685\n",
      "[[1523   72]\n",
      " [ 191  214]]\n"
     ]
    }
   ],
   "source": [
    "from sklearn.ensemble import RandomForestClassifier\n",
    "clf_rf = RandomForestClassifier()\n",
    "\n",
    "clf_rf.fit(X_train_scaled,y_train)\n",
    "rf_y_pred = clf_rf.predict(X_test_scaled)\n",
    "\n",
    "print(\"Accuracy of train data: \" , clf_rf.score(X_train_scaled,y_train))\n",
    "print(\"Accuracy of test data: \" , clf_rf.score(X_test_scaled,y_test))\n",
    "from sklearn.metrics import accuracy_score\n",
    "print(\"accuracy is: \" ,accuracy_score(y_test,rf_y_pred))\n",
    "from sklearn.metrics import confusion_matrix\n",
    "print(confusion_matrix(y_test,rf_y_pred))"
   ]
  },
  {
   "cell_type": "code",
   "execution_count": 26,
   "id": "2e731ef0",
   "metadata": {},
   "outputs": [
    {
     "name": "stdout",
     "output_type": "stream",
     "text": [
      "Accuracy of train data:  0.866\n",
      "Accuracy of test data:  0.8635\n",
      "accuracy is:  0.8635\n",
      "[[1547   48]\n",
      " [ 225  180]]\n"
     ]
    }
   ],
   "source": [
    "from sklearn.svm import SVC\n",
    "clf_sv = SVC(kernel='rbf')\n",
    "clf_sv.fit(X_train_scaled,y_train)\n",
    "sv_y_pred = clf_sv.predict(X_test_scaled)\n",
    "\n",
    "\n",
    "print(\"Accuracy of train data: \" , clf_sv.score(X_train_scaled,y_train))\n",
    "print(\"Accuracy of test data: \" , clf_sv.score(X_test_scaled,y_test))\n",
    "from sklearn.metrics import accuracy_score\n",
    "print(\"accuracy is: \" ,accuracy_score(y_test,sv_y_pred))\n",
    "from sklearn.metrics import confusion_matrix\n",
    "print(confusion_matrix(y_test,sv_y_pred))"
   ]
  },
  {
   "cell_type": "code",
   "execution_count": 27,
   "id": "88254bc9",
   "metadata": {},
   "outputs": [],
   "source": [
    "################### keras -- ANN ###################\n",
    "import keras\n",
    "from keras.models import Sequential\n",
    "from keras.layers import Dense,Dropout"
   ]
  },
  {
   "cell_type": "code",
   "execution_count": 28,
   "id": "d3548ca8",
   "metadata": {},
   "outputs": [],
   "source": [
    "# Initialising the ANN\n",
    "cls = Sequential()\n",
    "\n",
    "cls.add(Dense(units = 5, kernel_initializer = 'he_uniform',activation='relu',input_dim = 11))\n",
    "\n",
    "cls.add(Dense(units = 6, kernel_initializer = 'he_uniform',activation='relu',input_dim = 5))\n",
    "\n",
    "cls.add(Dense(units =1 ,kernel_initializer = 'glorot_uniform', activation = 'sigmoid'))\n",
    "\n",
    "cls.compile(optimizer = 'adam', loss = 'binary_crossentropy', metrics = ['accuracy'])"
   ]
  },
  {
   "cell_type": "code",
   "execution_count": 29,
   "id": "4ea712ac",
   "metadata": {},
   "outputs": [
    {
     "name": "stdout",
     "output_type": "stream",
     "text": [
      "Epoch 1/100\n",
      "268/268 [==============================] - 21s 7ms/step - loss: 2460.6808 - accuracy: 0.6752 - val_loss: 452.6768 - val_accuracy: 0.7387\n",
      "Epoch 2/100\n",
      "268/268 [==============================] - 1s 3ms/step - loss: 286.7599 - accuracy: 0.7124 - val_loss: 6.4772 - val_accuracy: 0.7172\n",
      "Epoch 3/100\n",
      "268/268 [==============================] - 1s 3ms/step - loss: 17.8165 - accuracy: 0.6268 - val_loss: 12.7393 - val_accuracy: 0.6918\n",
      "Epoch 4/100\n",
      "268/268 [==============================] - 1s 3ms/step - loss: 10.9914 - accuracy: 0.6121 - val_loss: 4.9787 - val_accuracy: 0.6736\n",
      "Epoch 5/100\n",
      "268/268 [==============================] - 1s 3ms/step - loss: 9.1027 - accuracy: 0.6954 - val_loss: 24.1255 - val_accuracy: 0.5676\n",
      "Epoch 6/100\n",
      "268/268 [==============================] - 1s 3ms/step - loss: 9.9264 - accuracy: 0.7154 - val_loss: 16.3350 - val_accuracy: 0.7925\n",
      "Epoch 7/100\n",
      "268/268 [==============================] - 1s 3ms/step - loss: 9.2142 - accuracy: 0.7412 - val_loss: 5.2669 - val_accuracy: 0.7955\n",
      "Epoch 8/100\n",
      "268/268 [==============================] - 1s 3ms/step - loss: 4.0376 - accuracy: 0.7397 - val_loss: 0.6418 - val_accuracy: 0.7955\n",
      "Epoch 9/100\n",
      "268/268 [==============================] - 1s 3ms/step - loss: 4.5386 - accuracy: 0.7562 - val_loss: 4.8816 - val_accuracy: 0.6115\n",
      "Epoch 10/100\n",
      "268/268 [==============================] - 1s 3ms/step - loss: 4.6006 - accuracy: 0.7552 - val_loss: 8.9259 - val_accuracy: 0.6267\n",
      "Epoch 11/100\n",
      "268/268 [==============================] - 1s 3ms/step - loss: 3.9838 - accuracy: 0.7437 - val_loss: 6.5735 - val_accuracy: 0.7955\n",
      "Epoch 12/100\n",
      "268/268 [==============================] - 1s 3ms/step - loss: 2.5905 - accuracy: 0.7627 - val_loss: 3.0412 - val_accuracy: 0.6501\n",
      "Epoch 13/100\n",
      "268/268 [==============================] - 1s 3ms/step - loss: 2.7092 - accuracy: 0.7538 - val_loss: 6.5537 - val_accuracy: 0.7955\n",
      "Epoch 14/100\n",
      "268/268 [==============================] - 1s 3ms/step - loss: 2.5121 - accuracy: 0.7611 - val_loss: 4.2869 - val_accuracy: 0.7955\n",
      "Epoch 15/100\n",
      "268/268 [==============================] - 1s 3ms/step - loss: 3.0766 - accuracy: 0.7733 - val_loss: 5.0817 - val_accuracy: 0.7955\n",
      "Epoch 16/100\n",
      "268/268 [==============================] - 1s 3ms/step - loss: 2.5348 - accuracy: 0.7751 - val_loss: 1.2889 - val_accuracy: 0.6986\n",
      "Epoch 17/100\n",
      "268/268 [==============================] - 1s 3ms/step - loss: 2.0393 - accuracy: 0.7708 - val_loss: 0.5998 - val_accuracy: 0.7955\n",
      "Epoch 18/100\n",
      "268/268 [==============================] - 1s 3ms/step - loss: 1.5230 - accuracy: 0.7742 - val_loss: 1.7140 - val_accuracy: 0.7955\n",
      "Epoch 19/100\n",
      "268/268 [==============================] - 1s 3ms/step - loss: 2.4738 - accuracy: 0.7712 - val_loss: 1.0634 - val_accuracy: 0.7955\n",
      "Epoch 20/100\n",
      "268/268 [==============================] - 1s 3ms/step - loss: 0.9383 - accuracy: 0.7848 - val_loss: 2.8815 - val_accuracy: 0.7955\n",
      "Epoch 21/100\n",
      "268/268 [==============================] - 1s 3ms/step - loss: 0.8195 - accuracy: 0.7847 - val_loss: 0.9218 - val_accuracy: 0.7955\n",
      "Epoch 22/100\n",
      "268/268 [==============================] - 1s 3ms/step - loss: 0.7888 - accuracy: 0.7816 - val_loss: 0.6800 - val_accuracy: 0.7955\n",
      "Epoch 23/100\n",
      "268/268 [==============================] - 1s 3ms/step - loss: 0.7044 - accuracy: 0.7865 - val_loss: 0.8328 - val_accuracy: 0.7955\n",
      "Epoch 24/100\n",
      "268/268 [==============================] - 1s 3ms/step - loss: 0.6278 - accuracy: 0.7902 - val_loss: 0.5313 - val_accuracy: 0.7955\n",
      "Epoch 25/100\n",
      "268/268 [==============================] - 1s 3ms/step - loss: 0.6199 - accuracy: 0.7883 - val_loss: 0.5304 - val_accuracy: 0.7955\n",
      "Epoch 26/100\n",
      "268/268 [==============================] - 1s 3ms/step - loss: 0.5453 - accuracy: 0.7882 - val_loss: 0.5258 - val_accuracy: 0.7819\n",
      "Epoch 27/100\n",
      "268/268 [==============================] - 1s 3ms/step - loss: 0.5373 - accuracy: 0.7943 - val_loss: 0.5117 - val_accuracy: 0.7857\n",
      "Epoch 28/100\n",
      "268/268 [==============================] - 1s 3ms/step - loss: 0.5119 - accuracy: 0.7980 - val_loss: 0.5107 - val_accuracy: 0.7891\n",
      "Epoch 29/100\n",
      "268/268 [==============================] - 1s 3ms/step - loss: 0.5201 - accuracy: 0.7911 - val_loss: 0.5604 - val_accuracy: 0.7955\n",
      "Epoch 30/100\n",
      "268/268 [==============================] - 1s 3ms/step - loss: 0.5233 - accuracy: 0.7948 - val_loss: 0.5242 - val_accuracy: 0.7955\n",
      "Epoch 31/100\n",
      "268/268 [==============================] - 1s 3ms/step - loss: 0.5078 - accuracy: 0.7970 - val_loss: 0.5071 - val_accuracy: 0.7952\n",
      "Epoch 32/100\n",
      "268/268 [==============================] - 1s 3ms/step - loss: 0.5185 - accuracy: 0.7890 - val_loss: 0.5078 - val_accuracy: 0.7952\n",
      "Epoch 33/100\n",
      "268/268 [==============================] - 1s 3ms/step - loss: 0.5120 - accuracy: 0.7914 - val_loss: 0.5081 - val_accuracy: 0.7959\n",
      "Epoch 34/100\n",
      "268/268 [==============================] - 1s 3ms/step - loss: 0.5016 - accuracy: 0.7991 - val_loss: 0.5071 - val_accuracy: 0.7955\n",
      "Epoch 35/100\n",
      "268/268 [==============================] - 1s 3ms/step - loss: 0.5120 - accuracy: 0.7902 - val_loss: 0.5068 - val_accuracy: 0.7955\n",
      "Epoch 36/100\n",
      "268/268 [==============================] - 1s 3ms/step - loss: 0.5062 - accuracy: 0.7955 - val_loss: 0.5073 - val_accuracy: 0.7955\n",
      "Epoch 37/100\n",
      "268/268 [==============================] - 1s 3ms/step - loss: 0.5025 - accuracy: 0.7980 - val_loss: 0.5069 - val_accuracy: 0.7955\n",
      "Epoch 38/100\n",
      "268/268 [==============================] - 1s 3ms/step - loss: 0.4966 - accuracy: 0.8028 - val_loss: 0.5072 - val_accuracy: 0.7955\n",
      "Epoch 39/100\n",
      "268/268 [==============================] - 1s 3ms/step - loss: 0.5110 - accuracy: 0.7918 - val_loss: 0.5069 - val_accuracy: 0.7955\n",
      "Epoch 40/100\n",
      "268/268 [==============================] - 1s 3ms/step - loss: 0.5153 - accuracy: 0.7887 - val_loss: 0.5068 - val_accuracy: 0.7955\n",
      "Epoch 41/100\n",
      "268/268 [==============================] - 1s 3ms/step - loss: 0.5089 - accuracy: 0.7932 - val_loss: 0.5069 - val_accuracy: 0.7955\n",
      "Epoch 42/100\n",
      "268/268 [==============================] - 1s 3ms/step - loss: 0.5026 - accuracy: 0.7984 - val_loss: 0.5071 - val_accuracy: 0.7955\n",
      "Epoch 43/100\n",
      "268/268 [==============================] - 1s 3ms/step - loss: 0.5046 - accuracy: 0.7967 - val_loss: 0.5071 - val_accuracy: 0.7955\n",
      "Epoch 44/100\n",
      "268/268 [==============================] - 1s 3ms/step - loss: 0.5096 - accuracy: 0.7927 - val_loss: 0.5070 - val_accuracy: 0.7955\n",
      "Epoch 45/100\n",
      "268/268 [==============================] - 1s 3ms/step - loss: 0.4875 - accuracy: 0.8091 - val_loss: 0.5072 - val_accuracy: 0.7955\n",
      "Epoch 46/100\n",
      "268/268 [==============================] - 1s 3ms/step - loss: 0.5114 - accuracy: 0.7919 - val_loss: 0.5075 - val_accuracy: 0.7955\n",
      "Epoch 47/100\n",
      "268/268 [==============================] - 1s 3ms/step - loss: 0.4938 - accuracy: 0.8043 - val_loss: 0.5068 - val_accuracy: 0.7955\n",
      "Epoch 48/100\n",
      "268/268 [==============================] - 1s 3ms/step - loss: 0.5000 - accuracy: 0.7999 - val_loss: 0.5067 - val_accuracy: 0.7955\n",
      "Epoch 49/100\n",
      "268/268 [==============================] - 1s 3ms/step - loss: 0.5038 - accuracy: 0.7974 - val_loss: 0.5073 - val_accuracy: 0.7955\n",
      "Epoch 50/100\n",
      "268/268 [==============================] - 1s 3ms/step - loss: 0.5091 - accuracy: 0.7932 - val_loss: 0.5070 - val_accuracy: 0.7955\n",
      "Epoch 51/100\n",
      "268/268 [==============================] - 1s 3ms/step - loss: 0.5091 - accuracy: 0.7933 - val_loss: 0.5074 - val_accuracy: 0.7955\n",
      "Epoch 52/100\n",
      "268/268 [==============================] - 1s 3ms/step - loss: 0.5045 - accuracy: 0.7964 - val_loss: 0.5067 - val_accuracy: 0.7955\n",
      "Epoch 53/100\n",
      "268/268 [==============================] - 1s 3ms/step - loss: 0.5099 - accuracy: 0.7927 - val_loss: 0.5071 - val_accuracy: 0.7955\n",
      "Epoch 54/100\n",
      "268/268 [==============================] - 1s 3ms/step - loss: 0.5054 - accuracy: 0.7961 - val_loss: 0.5072 - val_accuracy: 0.7955\n",
      "Epoch 55/100\n",
      "268/268 [==============================] - 1s 3ms/step - loss: 0.5140 - accuracy: 0.7895 - val_loss: 0.5070 - val_accuracy: 0.7955\n",
      "Epoch 56/100\n",
      "268/268 [==============================] - 1s 3ms/step - loss: 0.4891 - accuracy: 0.8075 - val_loss: 0.5067 - val_accuracy: 0.7955\n",
      "Epoch 57/100\n",
      "268/268 [==============================] - 1s 3ms/step - loss: 0.4983 - accuracy: 0.8014 - val_loss: 0.5071 - val_accuracy: 0.7955\n"
     ]
    },
    {
     "name": "stdout",
     "output_type": "stream",
     "text": [
      "Epoch 58/100\n",
      "268/268 [==============================] - 1s 3ms/step - loss: 0.5028 - accuracy: 0.7981 - val_loss: 0.5073 - val_accuracy: 0.7955\n",
      "Epoch 59/100\n",
      "268/268 [==============================] - 1s 3ms/step - loss: 0.5158 - accuracy: 0.7881 - val_loss: 0.5068 - val_accuracy: 0.7955\n",
      "Epoch 60/100\n",
      "268/268 [==============================] - 1s 3ms/step - loss: 0.5024 - accuracy: 0.7984 - val_loss: 0.5073 - val_accuracy: 0.7955\n",
      "Epoch 61/100\n",
      "268/268 [==============================] - 1s 3ms/step - loss: 0.5061 - accuracy: 0.7953 - val_loss: 0.5069 - val_accuracy: 0.7955\n",
      "Epoch 62/100\n",
      "268/268 [==============================] - 1s 3ms/step - loss: 0.5116 - accuracy: 0.7912 - val_loss: 0.5068 - val_accuracy: 0.7955\n",
      "Epoch 63/100\n",
      "268/268 [==============================] - 1s 3ms/step - loss: 0.4891 - accuracy: 0.8080 - val_loss: 0.5069 - val_accuracy: 0.7955\n",
      "Epoch 64/100\n",
      "268/268 [==============================] - 1s 3ms/step - loss: 0.4952 - accuracy: 0.8035 - val_loss: 0.5071 - val_accuracy: 0.7955\n",
      "Epoch 65/100\n",
      "268/268 [==============================] - 1s 3ms/step - loss: 0.5199 - accuracy: 0.7852 - val_loss: 0.5073 - val_accuracy: 0.7955\n",
      "Epoch 66/100\n",
      "268/268 [==============================] - 1s 3ms/step - loss: 0.5056 - accuracy: 0.7958 - val_loss: 0.5071 - val_accuracy: 0.7955\n",
      "Epoch 67/100\n",
      "268/268 [==============================] - 1s 3ms/step - loss: 0.4935 - accuracy: 0.8046 - val_loss: 0.5072 - val_accuracy: 0.7955\n",
      "Epoch 68/100\n",
      "268/268 [==============================] - 1s 3ms/step - loss: 0.4996 - accuracy: 0.8005 - val_loss: 0.5073 - val_accuracy: 0.7955\n",
      "Epoch 69/100\n",
      "268/268 [==============================] - 1s 3ms/step - loss: 0.5052 - accuracy: 0.7961 - val_loss: 0.5072 - val_accuracy: 0.7955\n",
      "Epoch 70/100\n",
      "268/268 [==============================] - 1s 3ms/step - loss: 0.5071 - accuracy: 0.7954 - val_loss: 0.5074 - val_accuracy: 0.7955\n",
      "Epoch 71/100\n",
      "268/268 [==============================] - 1s 3ms/step - loss: 0.4995 - accuracy: 0.8000 - val_loss: 0.5072 - val_accuracy: 0.7955\n",
      "Epoch 72/100\n",
      "268/268 [==============================] - 1s 3ms/step - loss: 0.5008 - accuracy: 0.7991 - val_loss: 0.5067 - val_accuracy: 0.7955\n",
      "Epoch 73/100\n",
      "268/268 [==============================] - 1s 3ms/step - loss: 0.5075 - accuracy: 0.7944 - val_loss: 0.5068 - val_accuracy: 0.7955\n",
      "Epoch 74/100\n",
      "268/268 [==============================] - 1s 3ms/step - loss: 0.5103 - accuracy: 0.7925 - val_loss: 0.5068 - val_accuracy: 0.7955\n",
      "Epoch 75/100\n",
      "268/268 [==============================] - 1s 3ms/step - loss: 0.5078 - accuracy: 0.7943 - val_loss: 0.5069 - val_accuracy: 0.7955\n",
      "Epoch 76/100\n",
      "268/268 [==============================] - 1s 3ms/step - loss: 0.5005 - accuracy: 0.7995 - val_loss: 0.5074 - val_accuracy: 0.7955\n",
      "Epoch 77/100\n",
      "268/268 [==============================] - 1s 3ms/step - loss: 0.5063 - accuracy: 0.7954 - val_loss: 0.5070 - val_accuracy: 0.7955\n",
      "Epoch 78/100\n",
      "268/268 [==============================] - 1s 3ms/step - loss: 0.5084 - accuracy: 0.7937 - val_loss: 0.5075 - val_accuracy: 0.7955\n",
      "Epoch 79/100\n",
      "268/268 [==============================] - 1s 3ms/step - loss: 0.4985 - accuracy: 0.8012 - val_loss: 0.5071 - val_accuracy: 0.7955\n",
      "Epoch 80/100\n",
      "268/268 [==============================] - 1s 3ms/step - loss: 0.5154 - accuracy: 0.7886 - val_loss: 0.5075 - val_accuracy: 0.7955\n",
      "Epoch 81/100\n",
      "268/268 [==============================] - 1s 3ms/step - loss: 0.5032 - accuracy: 0.7975 - val_loss: 0.5080 - val_accuracy: 0.7955\n",
      "Epoch 82/100\n",
      "268/268 [==============================] - 1s 3ms/step - loss: 0.5018 - accuracy: 0.7987 - val_loss: 0.5073 - val_accuracy: 0.7955\n",
      "Epoch 83/100\n",
      "268/268 [==============================] - 1s 3ms/step - loss: 0.5033 - accuracy: 0.7973 - val_loss: 0.5076 - val_accuracy: 0.7955\n",
      "Epoch 84/100\n",
      "268/268 [==============================] - 1s 3ms/step - loss: 0.5003 - accuracy: 0.7996 - val_loss: 0.5083 - val_accuracy: 0.7955\n",
      "Epoch 85/100\n",
      "268/268 [==============================] - 1s 3ms/step - loss: 0.5048 - accuracy: 0.7961 - val_loss: 0.5071 - val_accuracy: 0.7955\n",
      "Epoch 86/100\n",
      "268/268 [==============================] - 1s 3ms/step - loss: 0.4975 - accuracy: 0.8017 - val_loss: 0.5076 - val_accuracy: 0.7955\n",
      "Epoch 87/100\n",
      "268/268 [==============================] - 1s 3ms/step - loss: 0.4836 - accuracy: 0.8120 - val_loss: 0.5079 - val_accuracy: 0.7955\n",
      "Epoch 88/100\n",
      "268/268 [==============================] - 1s 3ms/step - loss: 0.5182 - accuracy: 0.7865 - val_loss: 0.5081 - val_accuracy: 0.7955\n",
      "Epoch 89/100\n",
      "268/268 [==============================] - 1s 3ms/step - loss: 0.5041 - accuracy: 0.7967 - val_loss: 0.5088 - val_accuracy: 0.7955\n",
      "Epoch 90/100\n",
      "268/268 [==============================] - 1s 3ms/step - loss: 0.5000 - accuracy: 0.8001 - val_loss: 0.5072 - val_accuracy: 0.7955\n",
      "Epoch 91/100\n",
      "268/268 [==============================] - 1s 3ms/step - loss: 0.5103 - accuracy: 0.7923 - val_loss: 0.5075 - val_accuracy: 0.7955\n",
      "Epoch 92/100\n",
      "268/268 [==============================] - 1s 3ms/step - loss: 0.5062 - accuracy: 0.7955 - val_loss: 0.5078 - val_accuracy: 0.7955\n",
      "Epoch 93/100\n",
      "268/268 [==============================] - 1s 3ms/step - loss: 0.5230 - accuracy: 0.7829 - val_loss: 0.5083 - val_accuracy: 0.7955\n",
      "Epoch 94/100\n",
      "268/268 [==============================] - 1s 3ms/step - loss: 0.5084 - accuracy: 0.7938 - val_loss: 0.5088 - val_accuracy: 0.7955\n",
      "Epoch 95/100\n",
      "268/268 [==============================] - 1s 3ms/step - loss: 0.5053 - accuracy: 0.7960 - val_loss: 0.5072 - val_accuracy: 0.7955\n",
      "Epoch 96/100\n",
      "268/268 [==============================] - 1s 3ms/step - loss: 0.4924 - accuracy: 0.8055 - val_loss: 0.5076 - val_accuracy: 0.7955\n",
      "Epoch 97/100\n",
      "268/268 [==============================] - 1s 3ms/step - loss: 0.5109 - accuracy: 0.7917 - val_loss: 0.5080 - val_accuracy: 0.7955\n",
      "Epoch 98/100\n",
      "268/268 [==============================] - 1s 3ms/step - loss: 0.5092 - accuracy: 0.7933 - val_loss: 0.5082 - val_accuracy: 0.7955\n",
      "Epoch 99/100\n",
      "268/268 [==============================] - 1s 3ms/step - loss: 0.5066 - accuracy: 0.7948 - val_loss: 0.5085 - val_accuracy: 0.7955\n",
      "Epoch 100/100\n",
      "268/268 [==============================] - 1s 3ms/step - loss: 0.4904 - accuracy: 0.8070 - val_loss: 0.5095 - val_accuracy: 0.7955\n"
     ]
    }
   ],
   "source": [
    "model_history=cls.fit(X_train, y_train,validation_split=0.33, batch_size = 20, epochs = 100)"
   ]
  },
  {
   "cell_type": "code",
   "execution_count": 30,
   "id": "756e3cfd",
   "metadata": {},
   "outputs": [
    {
     "name": "stdout",
     "output_type": "stream",
     "text": [
      "[[1595    0]\n",
      " [ 405    0]]\n",
      "0.7975\n"
     ]
    }
   ],
   "source": [
    "y_pred = cls.predict(X_test)\n",
    "y_pred = (y_pred > 0.5)\n",
    "\n",
    "# Making the Confusion Matrix\n",
    "from sklearn.metrics import confusion_matrix\n",
    "cm = confusion_matrix(y_test, y_pred)\n",
    "print(cm)\n",
    "# Calculate the Accuracy\n",
    "from sklearn.metrics import accuracy_score\n",
    "score=accuracy_score(y_pred,y_test)\n",
    "print(score)"
   ]
  },
  {
   "cell_type": "code",
   "execution_count": 44,
   "id": "4e84c269",
   "metadata": {},
   "outputs": [],
   "source": [
    "import pandas as pd\n",
    "from tensorflow import keras\n",
    "from tensorflow.keras import layers\n",
    "from kerastuner.tuners import RandomSearch\n",
    "from kerastuner.engine.hyperparameters import HyperParameters\n",
    "\n",
    "import os\n",
    "def build_model(hp):\n",
    "    model = keras.Sequential()\n",
    "    for i in range(hp.Int('num_layers', 2, 20)):\n",
    "        model.add(layers.Dense(units=hp.Int('units_' + str(i),\n",
    "                                            min_value=32,\n",
    "                                            max_value=512,\n",
    "                                            step=32),\n",
    "                               activation='relu'))\n",
    "    model.add(layers.Dense(1, activation='sigmoid'))\n",
    "    model.compile(optimizer=keras.optimizers.Adam(hp.Choice('learning_rate', [1e-2, 1e-3, 1e-4])),loss='binary_crossentropy',metrics=['accuracy'])\n",
    "    return model"
   ]
  },
  {
   "cell_type": "code",
   "execution_count": 48,
   "id": "4bfd2819",
   "metadata": {},
   "outputs": [],
   "source": [
    "tuner = RandomSearch(\n",
    "    build_model,\n",
    "    objective='val_accuracy',\n",
    "    max_trials=5,\n",
    "    directory=os.path.dirname(r'C:\\Users\\Chaitanya Mhetre\\AppData\\Local\\Programs\\Python\\Python39\\Scripts\\mayuri\\DL-churn-modelling-main\\DL-churn-modelling-main'),\n",
    "    project_name='churn_ANN',\n",
    "    executions_per_trial=3)"
   ]
  },
  {
   "cell_type": "code",
   "execution_count": 49,
   "id": "ce35735c",
   "metadata": {},
   "outputs": [
    {
     "name": "stdout",
     "output_type": "stream",
     "text": [
      "Search space summary\n",
      "Default search space size: 4\n",
      "num_layers (Int)\n",
      "{'default': None, 'conditions': [], 'min_value': 2, 'max_value': 20, 'step': 1, 'sampling': None}\n",
      "units_0 (Int)\n",
      "{'default': None, 'conditions': [], 'min_value': 32, 'max_value': 512, 'step': 32, 'sampling': None}\n",
      "units_1 (Int)\n",
      "{'default': None, 'conditions': [], 'min_value': 32, 'max_value': 512, 'step': 32, 'sampling': None}\n",
      "learning_rate (Choice)\n",
      "{'default': 0.01, 'conditions': [], 'values': [0.01, 0.001, 0.0001], 'ordered': True}\n"
     ]
    }
   ],
   "source": [
    "tuner.search_space_summary()"
   ]
  },
  {
   "cell_type": "code",
   "execution_count": 50,
   "id": "4d077f2c",
   "metadata": {},
   "outputs": [
    {
     "name": "stdout",
     "output_type": "stream",
     "text": [
      "Trial 5 Complete [00h 00m 59s]\n",
      "val_accuracy: 0.7929999828338623\n",
      "\n",
      "Best val_accuracy So Far: 0.7931111057599386\n",
      "Total elapsed time: 00h 04m 09s\n",
      "INFO:tensorflow:Oracle triggered exit\n"
     ]
    }
   ],
   "source": [
    "tuner.search(X_train, y_train,\n",
    "             epochs=5,\n",
    "             validation_data=(X_test, y_test))"
   ]
  },
  {
   "cell_type": "code",
   "execution_count": null,
   "id": "f6e2346a",
   "metadata": {},
   "outputs": [],
   "source": [
    "print(tensorflow.__version__)"
   ]
  },
  {
   "cell_type": "code",
   "execution_count": null,
   "id": "4db60a9b",
   "metadata": {},
   "outputs": [],
   "source": [
    "import tensorflow"
   ]
  },
  {
   "cell_type": "code",
   "execution_count": 51,
   "id": "e68901f7",
   "metadata": {},
   "outputs": [],
   "source": [
    "best_hps=tuner.get_best_hyperparameters(num_trials=1)[0]"
   ]
  },
  {
   "cell_type": "code",
   "execution_count": 52,
   "id": "83caaa69",
   "metadata": {},
   "outputs": [
    {
     "data": {
      "text/plain": [
       "<kerastuner.engine.hyperparameters.HyperParameters at 0x1984dc11a00>"
      ]
     },
     "execution_count": 52,
     "metadata": {},
     "output_type": "execute_result"
    }
   ],
   "source": [
    "best_hps"
   ]
  },
  {
   "cell_type": "code",
   "execution_count": 53,
   "id": "22931d06",
   "metadata": {},
   "outputs": [
    {
     "name": "stdout",
     "output_type": "stream",
     "text": [
      "Epoch 1/50\n",
      "175/175 [==============================] - 3s 10ms/step - loss: 1.0499 - accuracy: 0.7261 - val_loss: 0.7542 - val_accuracy: 0.5971\n",
      "Epoch 2/50\n",
      "175/175 [==============================] - 1s 8ms/step - loss: 0.5967 - accuracy: 0.7702 - val_loss: 0.6546 - val_accuracy: 0.8000\n",
      "Epoch 3/50\n",
      "175/175 [==============================] - 1s 8ms/step - loss: 0.5849 - accuracy: 0.7705 - val_loss: 0.5494 - val_accuracy: 0.8000\n",
      "Epoch 4/50\n",
      "175/175 [==============================] - 1s 8ms/step - loss: 0.5698 - accuracy: 0.7764 - val_loss: 0.5270 - val_accuracy: 0.8000\n",
      "Epoch 5/50\n",
      "175/175 [==============================] - 1s 8ms/step - loss: 0.5461 - accuracy: 0.7925 - val_loss: 0.5569 - val_accuracy: 0.8000\n",
      "Epoch 6/50\n",
      "175/175 [==============================] - 1s 8ms/step - loss: 0.5366 - accuracy: 0.7955 - val_loss: 0.5359 - val_accuracy: 0.8000\n",
      "Epoch 7/50\n",
      "175/175 [==============================] - 1s 8ms/step - loss: 0.5350 - accuracy: 0.7937 - val_loss: 0.5321 - val_accuracy: 0.8000\n",
      "Epoch 8/50\n",
      "175/175 [==============================] - 1s 8ms/step - loss: 0.5269 - accuracy: 0.7961 - val_loss: 0.5351 - val_accuracy: 0.8000\n",
      "Epoch 9/50\n",
      "175/175 [==============================] - 2s 8ms/step - loss: 0.5293 - accuracy: 0.7957 - val_loss: 0.5632 - val_accuracy: 0.8000\n",
      "Epoch 10/50\n",
      "175/175 [==============================] - 2s 9ms/step - loss: 0.5293 - accuracy: 0.7970 - val_loss: 0.5369 - val_accuracy: 0.8000\n",
      "Epoch 11/50\n",
      "175/175 [==============================] - 1s 8ms/step - loss: 0.5204 - accuracy: 0.7971 - val_loss: 0.5151 - val_accuracy: 0.8000\n",
      "Epoch 12/50\n",
      "175/175 [==============================] - 1s 8ms/step - loss: 0.5190 - accuracy: 0.7968 - val_loss: 0.5152 - val_accuracy: 0.8000\n",
      "Epoch 13/50\n",
      "175/175 [==============================] - 1s 8ms/step - loss: 0.5203 - accuracy: 0.7971 - val_loss: 0.5080 - val_accuracy: 0.8000\n",
      "Epoch 14/50\n",
      "175/175 [==============================] - 1s 8ms/step - loss: 0.5182 - accuracy: 0.7971 - val_loss: 0.5095 - val_accuracy: 0.8000\n",
      "Epoch 15/50\n",
      "175/175 [==============================] - 1s 8ms/step - loss: 0.5129 - accuracy: 0.7964 - val_loss: 0.5117 - val_accuracy: 0.8000\n",
      "Epoch 16/50\n",
      "175/175 [==============================] - 1s 8ms/step - loss: 0.5136 - accuracy: 0.7970 - val_loss: 0.5114 - val_accuracy: 0.8000\n",
      "Epoch 17/50\n",
      "175/175 [==============================] - 1s 8ms/step - loss: 0.5160 - accuracy: 0.7970 - val_loss: 0.5021 - val_accuracy: 0.8000\n",
      "Epoch 18/50\n",
      "175/175 [==============================] - 1s 8ms/step - loss: 0.5134 - accuracy: 0.7962 - val_loss: 0.5085 - val_accuracy: 0.8000\n",
      "Epoch 19/50\n",
      "175/175 [==============================] - 1s 8ms/step - loss: 0.5126 - accuracy: 0.7961 - val_loss: 0.5093 - val_accuracy: 0.8000\n",
      "Epoch 20/50\n",
      "175/175 [==============================] - 1s 8ms/step - loss: 0.5101 - accuracy: 0.7971 - val_loss: 0.5051 - val_accuracy: 0.8000\n",
      "Epoch 21/50\n",
      "175/175 [==============================] - 1s 8ms/step - loss: 0.5047 - accuracy: 0.7971 - val_loss: 0.5041 - val_accuracy: 0.8000\n",
      "Epoch 22/50\n",
      "175/175 [==============================] - 1s 8ms/step - loss: 0.5075 - accuracy: 0.7971 - val_loss: 0.4991 - val_accuracy: 0.8000\n",
      "Epoch 23/50\n",
      "175/175 [==============================] - 1s 8ms/step - loss: 0.5064 - accuracy: 0.7971 - val_loss: 0.5207 - val_accuracy: 0.8000\n",
      "Epoch 24/50\n",
      "175/175 [==============================] - 1s 8ms/step - loss: 0.5060 - accuracy: 0.7970 - val_loss: 0.4984 - val_accuracy: 0.8000\n",
      "Epoch 25/50\n",
      "175/175 [==============================] - 1s 8ms/step - loss: 0.5024 - accuracy: 0.7971 - val_loss: 0.4972 - val_accuracy: 0.8000\n",
      "Epoch 26/50\n",
      "175/175 [==============================] - 1s 8ms/step - loss: 0.5024 - accuracy: 0.7971 - val_loss: 0.4956 - val_accuracy: 0.8000\n",
      "Epoch 27/50\n",
      "175/175 [==============================] - 1s 8ms/step - loss: 0.5046 - accuracy: 0.7971 - val_loss: 0.4962 - val_accuracy: 0.8000\n",
      "Epoch 28/50\n",
      "175/175 [==============================] - 1s 8ms/step - loss: 0.5010 - accuracy: 0.7971 - val_loss: 0.4962 - val_accuracy: 0.8000\n",
      "Epoch 29/50\n",
      "175/175 [==============================] - 1s 8ms/step - loss: 0.5009 - accuracy: 0.7971 - val_loss: 0.4948 - val_accuracy: 0.8000\n",
      "Epoch 30/50\n",
      "175/175 [==============================] - 1s 8ms/step - loss: 0.5031 - accuracy: 0.7971 - val_loss: 0.4953 - val_accuracy: 0.8000\n",
      "Epoch 31/50\n",
      "175/175 [==============================] - 1s 8ms/step - loss: 0.5007 - accuracy: 0.7971 - val_loss: 0.4944 - val_accuracy: 0.8000\n",
      "Epoch 32/50\n",
      "175/175 [==============================] - 1s 8ms/step - loss: 0.4997 - accuracy: 0.7971 - val_loss: 0.4936 - val_accuracy: 0.8000\n",
      "Epoch 33/50\n",
      "175/175 [==============================] - 2s 9ms/step - loss: 0.5002 - accuracy: 0.7971 - val_loss: 0.4975 - val_accuracy: 0.8000\n",
      "Epoch 34/50\n",
      "175/175 [==============================] - 1s 8ms/step - loss: 0.4987 - accuracy: 0.7971 - val_loss: 0.4931 - val_accuracy: 0.8000\n",
      "Epoch 35/50\n",
      "175/175 [==============================] - 1s 8ms/step - loss: 0.5006 - accuracy: 0.7971 - val_loss: 0.5079 - val_accuracy: 0.8000\n",
      "Epoch 36/50\n",
      "175/175 [==============================] - 1s 8ms/step - loss: 0.5023 - accuracy: 0.7971 - val_loss: 0.4924 - val_accuracy: 0.8000\n",
      "Epoch 37/50\n",
      "175/175 [==============================] - 1s 8ms/step - loss: 0.4993 - accuracy: 0.7971 - val_loss: 0.4962 - val_accuracy: 0.8000\n",
      "Epoch 38/50\n",
      "175/175 [==============================] - 1s 8ms/step - loss: 0.4992 - accuracy: 0.7971 - val_loss: 0.4944 - val_accuracy: 0.8000\n",
      "Epoch 39/50\n",
      "175/175 [==============================] - 1s 8ms/step - loss: 0.4987 - accuracy: 0.7971 - val_loss: 0.4945 - val_accuracy: 0.8000\n",
      "Epoch 40/50\n",
      "175/175 [==============================] - 1s 8ms/step - loss: 0.4974 - accuracy: 0.7971 - val_loss: 0.4964 - val_accuracy: 0.8000\n",
      "Epoch 41/50\n",
      "175/175 [==============================] - 1s 8ms/step - loss: 0.4991 - accuracy: 0.7971 - val_loss: 0.5087 - val_accuracy: 0.8000\n",
      "Epoch 42/50\n",
      "175/175 [==============================] - 1s 8ms/step - loss: 0.5001 - accuracy: 0.7973 - val_loss: 0.4956 - val_accuracy: 0.8000\n",
      "Epoch 43/50\n",
      "175/175 [==============================] - 1s 8ms/step - loss: 0.5003 - accuracy: 0.7971 - val_loss: 0.4992 - val_accuracy: 0.8000\n",
      "Epoch 44/50\n",
      "175/175 [==============================] - 1s 8ms/step - loss: 0.4995 - accuracy: 0.7971 - val_loss: 0.4940 - val_accuracy: 0.8000\n",
      "Epoch 45/50\n",
      "175/175 [==============================] - 1s 8ms/step - loss: 0.4973 - accuracy: 0.7971 - val_loss: 0.4916 - val_accuracy: 0.8000\n",
      "Epoch 46/50\n",
      "175/175 [==============================] - 2s 9ms/step - loss: 0.4977 - accuracy: 0.7971 - val_loss: 0.4930 - val_accuracy: 0.8000\n",
      "Epoch 47/50\n",
      "175/175 [==============================] - 1s 8ms/step - loss: 0.4989 - accuracy: 0.7971 - val_loss: 0.5015 - val_accuracy: 0.8000\n",
      "Epoch 48/50\n",
      "175/175 [==============================] - 1s 8ms/step - loss: 0.5000 - accuracy: 0.7971 - val_loss: 0.4928 - val_accuracy: 0.8000\n",
      "Epoch 49/50\n",
      "175/175 [==============================] - 1s 8ms/step - loss: 0.5002 - accuracy: 0.7971 - val_loss: 0.4929 - val_accuracy: 0.8000\n",
      "Epoch 50/50\n",
      "175/175 [==============================] - 1s 8ms/step - loss: 0.5015 - accuracy: 0.7971 - val_loss: 0.4998 - val_accuracy: 0.8000\n",
      "Best epoch: 2\n"
     ]
    }
   ],
   "source": [
    "model = tuner.hypermodel.build(best_hps)\n",
    "history = model.fit(X_train, y_train, epochs=50, validation_split=0.2)\n",
    "\n",
    "val_acc_per_epoch = history.history['val_accuracy']\n",
    "best_epoch = val_acc_per_epoch.index(max(val_acc_per_epoch)) + 1\n",
    "print('Best epoch: %d' % (best_epoch,))"
   ]
  },
  {
   "cell_type": "code",
   "execution_count": null,
   "id": "24286316",
   "metadata": {},
   "outputs": [],
   "source": []
  }
 ],
 "metadata": {
  "kernelspec": {
   "display_name": "Python 3",
   "language": "python",
   "name": "python3"
  },
  "language_info": {
   "codemirror_mode": {
    "name": "ipython",
    "version": 3
   },
   "file_extension": ".py",
   "mimetype": "text/x-python",
   "name": "python",
   "nbconvert_exporter": "python",
   "pygments_lexer": "ipython3",
   "version": "3.9.5"
  }
 },
 "nbformat": 4,
 "nbformat_minor": 5
}
